{
 "cells": [
  {
   "cell_type": "markdown",
   "metadata": {},
   "source": [
    "# Execution example"
   ]
  },
  {
   "cell_type": "code",
   "execution_count": 1,
   "metadata": {
    "collapsed": true
   },
   "outputs": [],
   "source": [
    "from nscraper.comercio import ComercioSource"
   ]
  },
  {
   "cell_type": "code",
   "execution_count": 2,
   "metadata": {},
   "outputs": [
    {
     "name": "stdout",
     "output_type": "stream",
     "text": [
      "Gettings links from 7 pages (16 threads)...\n",
      "Elapsed: 2.80s\n",
      "Got 401 links.\n",
      "11 links to process.\n",
      "Scraping 11 links on 16 threads...\n",
      "Elapsed: 5.04s\n",
      "0 rows added.\n"
     ]
    }
   ],
   "source": [
    "FILE = 'data/data_comercio.csv'\n",
    "LOG_FILE = 'data/errors.log'\n",
    "source = ComercioSource(FILE, LOG_FILE, sub_url='archivo/politica', tags='politica', n_days=7, n_threads=16)"
   ]
  },
  {
   "cell_type": "code",
   "execution_count": 6,
   "metadata": {},
   "outputs": [
    {
     "data": {
      "text/html": [
       "<div>\n",
       "<style>\n",
       "    .dataframe thead tr:only-child th {\n",
       "        text-align: right;\n",
       "    }\n",
       "\n",
       "    .dataframe thead th {\n",
       "        text-align: left;\n",
       "    }\n",
       "\n",
       "    .dataframe tbody tr th {\n",
       "        vertical-align: top;\n",
       "    }\n",
       "</style>\n",
       "<table border=\"1\" class=\"dataframe\">\n",
       "  <thead>\n",
       "    <tr style=\"text-align: right;\">\n",
       "      <th></th>\n",
       "      <th>source</th>\n",
       "      <th>link_id</th>\n",
       "      <th>url</th>\n",
       "      <th>date</th>\n",
       "      <th>title</th>\n",
       "      <th>summary</th>\n",
       "      <th>text</th>\n",
       "      <th>related_news</th>\n",
       "      <th>tags</th>\n",
       "    </tr>\n",
       "  </thead>\n",
       "  <tbody>\n",
       "    <tr>\n",
       "      <th>156</th>\n",
       "      <td>comercio</td>\n",
       "      <td>454365</td>\n",
       "      <td>http://elcomercio.pe/politica/presidente-judic...</td>\n",
       "      <td>2017-08-30</td>\n",
       "      <td>'Presidente del PJ descarta enfrentamiento con...</td>\n",
       "      <td>'“Fiscales no van a seguir quejando a los juec...</td>\n",
       "      <td>El titular del Poder Judicial, Duberlí Rodrígu...</td>\n",
       "      <td>http://elcomercio.pe/politica/fiscal-rafael-ve...</td>\n",
       "      <td>politica ministerio-público duberlí-rodríguez</td>\n",
       "    </tr>\n",
       "    <tr>\n",
       "      <th>157</th>\n",
       "      <td>comercio</td>\n",
       "      <td>454402</td>\n",
       "      <td>http://elcomercio.pe/politica/martens-dice-neg...</td>\n",
       "      <td>2017-08-30</td>\n",
       "      <td>'Martens dice que “no es negociable” dejar sin...</td>\n",
       "      <td>'La ministra de Educación afirmó hoy que más d...</td>\n",
       "      <td>La ministra de Educación, Marilú Martens, sost...</td>\n",
       "      <td>http://elcomercio.pe/politica/huelga-maestros-...</td>\n",
       "      <td>politica marilú-martens</td>\n",
       "    </tr>\n",
       "    <tr>\n",
       "      <th>158</th>\n",
       "      <td>comercio</td>\n",
       "      <td>454286</td>\n",
       "      <td>http://elcomercio.pe/politica/tribunal-constit...</td>\n",
       "      <td>2017-08-30</td>\n",
       "      <td>'Tribunal Constitucional: congresistas no agru...</td>\n",
       "      <td>'Richard Arce y Alberto Quintanilla, represent...</td>\n",
       "      <td>Los congresistas del bloque Nuevo Perú Alberto...</td>\n",
       "      <td>NaN</td>\n",
       "      <td>tribunal-constitucional congreso-de-la-repúbli...</td>\n",
       "    </tr>\n",
       "    <tr>\n",
       "      <th>159</th>\n",
       "      <td>comercio</td>\n",
       "      <td>454029</td>\n",
       "      <td>http://elcomercio.pe/politica/fiscalia-abre-in...</td>\n",
       "      <td>2017-08-30</td>\n",
       "      <td>'Fiscalía abre investigación preliminar a Keik...</td>\n",
       "      <td>'Fiscal Juárez abrió indagación contra lideres...</td>\n",
       "      <td>El fiscal de lavado de activos Germán Juárez A...</td>\n",
       "      <td>NaN</td>\n",
       "      <td>politica odebrecht keiko-fujimori</td>\n",
       "    </tr>\n",
       "    <tr>\n",
       "      <th>160</th>\n",
       "      <td>comercio</td>\n",
       "      <td>454450</td>\n",
       "      <td>http://elcomercio.pe/politica/fernando-zavala-...</td>\n",
       "      <td>2017-08-30</td>\n",
       "      <td>'Zavala sustentará Ley de Presupuesto 2018 ant...</td>\n",
       "      <td>'Así lo informó el titular del Legislativo, Lu...</td>\n",
       "      <td>El presidente del Congreso de la República, Lu...</td>\n",
       "      <td>NaN</td>\n",
       "      <td>politica ley-de-presupuesto fernando-zavala</td>\n",
       "    </tr>\n",
       "  </tbody>\n",
       "</table>\n",
       "</div>"
      ],
      "text/plain": [
       "       source  link_id                                                url  \\\n",
       "156  comercio   454365  http://elcomercio.pe/politica/presidente-judic...   \n",
       "157  comercio   454402  http://elcomercio.pe/politica/martens-dice-neg...   \n",
       "158  comercio   454286  http://elcomercio.pe/politica/tribunal-constit...   \n",
       "159  comercio   454029  http://elcomercio.pe/politica/fiscalia-abre-in...   \n",
       "160  comercio   454450  http://elcomercio.pe/politica/fernando-zavala-...   \n",
       "\n",
       "           date                                              title  \\\n",
       "156  2017-08-30  'Presidente del PJ descarta enfrentamiento con...   \n",
       "157  2017-08-30  'Martens dice que “no es negociable” dejar sin...   \n",
       "158  2017-08-30  'Tribunal Constitucional: congresistas no agru...   \n",
       "159  2017-08-30  'Fiscalía abre investigación preliminar a Keik...   \n",
       "160  2017-08-30  'Zavala sustentará Ley de Presupuesto 2018 ant...   \n",
       "\n",
       "                                               summary  \\\n",
       "156  '“Fiscales no van a seguir quejando a los juec...   \n",
       "157  'La ministra de Educación afirmó hoy que más d...   \n",
       "158  'Richard Arce y Alberto Quintanilla, represent...   \n",
       "159  'Fiscal Juárez abrió indagación contra lideres...   \n",
       "160  'Así lo informó el titular del Legislativo, Lu...   \n",
       "\n",
       "                                                  text  \\\n",
       "156  El titular del Poder Judicial, Duberlí Rodrígu...   \n",
       "157  La ministra de Educación, Marilú Martens, sost...   \n",
       "158  Los congresistas del bloque Nuevo Perú Alberto...   \n",
       "159  El fiscal de lavado de activos Germán Juárez A...   \n",
       "160  El presidente del Congreso de la República, Lu...   \n",
       "\n",
       "                                          related_news  \\\n",
       "156  http://elcomercio.pe/politica/fiscal-rafael-ve...   \n",
       "157  http://elcomercio.pe/politica/huelga-maestros-...   \n",
       "158                                                NaN   \n",
       "159                                                NaN   \n",
       "160                                                NaN   \n",
       "\n",
       "                                                  tags  \n",
       "156      politica ministerio-público duberlí-rodríguez  \n",
       "157                            politica marilú-martens  \n",
       "158  tribunal-constitucional congreso-de-la-repúbli...  \n",
       "159                  politica odebrecht keiko-fujimori  \n",
       "160        politica ley-de-presupuesto fernando-zavala  "
      ]
     },
     "execution_count": 6,
     "metadata": {},
     "output_type": "execute_result"
    }
   ],
   "source": [
    "import pandas as pd\n",
    "\n",
    "df = pd.read_csv(FILE)\n",
    "df.tail()"
   ]
  },
  {
   "cell_type": "code",
   "execution_count": 7,
   "metadata": {},
   "outputs": [
    {
     "data": {
      "text/plain": [
       "['skipped-No element #article-default found (http://elcomercio.pe/archivo/politica/2017-09-05).',\n",
       " 'skipped-No element #article-default found (http://elcomercio.pe/archivo/politica/2017-09-04).',\n",
       " 'skipped-No element #article-default found (http://elcomercio.pe/archivo/politica/2017-09-03).',\n",
       " 'skipped-No element #article-default found (http://elcomercio.pe/archivo/politica/2017-09-02).',\n",
       " '1',\n",
       " '1',\n",
       " '1',\n",
       " '1',\n",
       " '1',\n",
       " '1',\n",
       " '1',\n",
       " '1',\n",
       " '1',\n",
       " '1',\n",
       " '1',\n",
       " '1',\n",
       " 'skipped-No element #article-default found (http://elcomercio.pe/archivo/politica/2017-08-30).',\n",
       " '1',\n",
       " '1',\n",
       " '1',\n",
       " '1',\n",
       " '1',\n",
       " '1',\n",
       " '1',\n",
       " '1',\n",
       " \"article text: list index out of range, related news: 'NoneType' object has no attribute 'findAll' (http://elcomercio.pe/politica/vez-andres-noticia-454493)\",\n",
       " 'article text: list index out of range (http://elcomercio.pe/politica/ley-antitransfuguismo-posiciones-proxima-sentencia-tc-noticia-454668)',\n",
       " '1',\n",
       " \"related news: 'NoneType' object has no attribute 'findAll' (http://elcomercio.pe/politica/ppque-columna-fernando-tuesta-soldevilla-noticia-454495)\",\n",
       " \"related news: 'NoneType' object has no attribute 'findAll' (http://elcomercio.pe/politica/fiscal-investiga-nadine-heredia-licitacion-gasoducto-sur-peruano-noticia-454497)\",\n",
       " 'skipped-No element #article-default found (http://elcomercio.pe/archivo/politica/2017-09-01).',\n",
       " '1',\n",
       " '1',\n",
       " \"related news: 'NoneType' object has no attribute 'findAll' (http://elcomercio.pe/politica/fernando-zavala-afirma-presencia-peru-asamblea-onu-importante-noticia-454478)\",\n",
       " \"related news: 'NoneType' object has no attribute 'findAll' (http://elcomercio.pe/politica/torres-fuerza-popular-teme-ley-antitransfugas-sea-declarada-inconstitucional-noticia-454489)\",\n",
       " '1',\n",
       " '1',\n",
       " '1',\n",
       " 'skipped-No element #article-default found (http://elcomercio.pe/archivo/politica/2017-08-31).',\n",
       " 'skipped-No element #article-default found (http://elcomercio.pe/archivo/politica/2017-08-29).',\n",
       " 'skipped-No element #article-default found (http://elcomercio.pe/archivo/politica/2017-08-27).',\n",
       " '1',\n",
       " \"related news: 'NoneType' object has no attribute 'findAll' (http://elcomercio.pe/politica/rey-calato-columna-cecilia-valenzuela-noticia-454289)\",\n",
       " \"related news: 'NoneType' object has no attribute 'findAll' (http://elcomercio.pe/politica/juan-sheput-jorge-villacorta-excelente-operador-politico-desperdiciado-gobierno-noticia-454503)\",\n",
       " \"related news: 'NoneType' object has no attribute 'findAll' (http://elcomercio.pe/politica/admiten-habeas-corpus-liberar-ollanta-humala-nadine-heredia-corte-piura-noticia-454010)\",\n",
       " 'skipped-No element #article-default found (http://elcomercio.pe/archivo/politica/2017-08-26).',\n",
       " '1',\n",
       " '1',\n",
       " '1',\n",
       " \"article text: list index out of range, related news: 'NoneType' object has no attribute 'findAll' (http://elcomercio.pe/politica/vez-andres-noticia-454297)\",\n",
       " \"related news: 'NoneType' object has no attribute 'findAll' (http://elcomercio.pe/politica/resolucion-tc-ley-antitransfugas-debe-oficializarse-dias-noticia-454291)\",\n",
       " '1',\n",
       " '1',\n",
       " '1',\n",
       " 'skipped-No element #article-default found (http://elcomercio.pe/archivo/politica/2017-08-28).',\n",
       " \"related news: 'NoneType' object has no attribute 'findAll' (http://elcomercio.pe/politica/fernando-zavala-sustentara-ley-presupuesto-2018-congreso-7-setiembre-noticia-454450)\",\n",
       " '1',\n",
       " \"related news: 'NoneType' object has no attribute 'findAll' (http://elcomercio.pe/politica/fiscalia-abre-investigacion-preliminar-keiko-fujimori-caso-odebrecht-noticia-454029)\",\n",
       " \"related news: 'NoneType' object has no attribute 'findAll' (http://elcomercio.pe/politica/tribunal-constitucional-congresistas-agrupados-esperan-fallo-expectativa-noticia-454286)\"]"
      ]
     },
     "execution_count": 7,
     "metadata": {},
     "output_type": "execute_result"
    }
   ],
   "source": [
    "source.last_result"
   ]
  },
  {
   "cell_type": "code",
   "execution_count": null,
   "metadata": {
    "collapsed": true
   },
   "outputs": [],
   "source": []
  },
  {
   "cell_type": "code",
   "execution_count": null,
   "metadata": {
    "collapsed": true
   },
   "outputs": [],
   "source": []
  },
  {
   "cell_type": "code",
   "execution_count": null,
   "metadata": {
    "collapsed": true
   },
   "outputs": [],
   "source": []
  },
  {
   "cell_type": "code",
   "execution_count": null,
   "metadata": {
    "collapsed": true
   },
   "outputs": [],
   "source": []
  },
  {
   "cell_type": "code",
   "execution_count": null,
   "metadata": {
    "collapsed": true
   },
   "outputs": [],
   "source": []
  },
  {
   "cell_type": "code",
   "execution_count": null,
   "metadata": {
    "collapsed": true
   },
   "outputs": [],
   "source": []
  },
  {
   "cell_type": "code",
   "execution_count": null,
   "metadata": {
    "collapsed": true
   },
   "outputs": [],
   "source": []
  },
  {
   "cell_type": "code",
   "execution_count": null,
   "metadata": {
    "collapsed": true
   },
   "outputs": [],
   "source": []
  },
  {
   "cell_type": "code",
   "execution_count": null,
   "metadata": {
    "collapsed": true
   },
   "outputs": [],
   "source": []
  },
  {
   "cell_type": "code",
   "execution_count": null,
   "metadata": {
    "collapsed": true
   },
   "outputs": [],
   "source": []
  },
  {
   "cell_type": "code",
   "execution_count": null,
   "metadata": {
    "collapsed": true
   },
   "outputs": [],
   "source": []
  },
  {
   "cell_type": "code",
   "execution_count": null,
   "metadata": {
    "collapsed": true
   },
   "outputs": [],
   "source": []
  }
 ],
 "metadata": {
  "kernelspec": {
   "display_name": "Python 3",
   "language": "python",
   "name": "python3"
  },
  "language_info": {
   "codemirror_mode": {
    "name": "ipython",
    "version": 3
   },
   "file_extension": ".py",
   "mimetype": "text/x-python",
   "name": "python",
   "nbconvert_exporter": "python",
   "pygments_lexer": "ipython3",
   "version": "3.6.2"
  }
 },
 "nbformat": 4,
 "nbformat_minor": 2
}
